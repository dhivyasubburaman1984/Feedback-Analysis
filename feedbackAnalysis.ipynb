{
 "cells": [
  {
   "cell_type": "code",
   "execution_count": 548,
   "metadata": {},
   "outputs": [],
   "source": [
    "import numpy as np\n",
    "import re\n",
    "import nltk\n",
    "import pandas as pd\n",
    "#nltk.download('stopwords')\n",
    "import pickle\n",
    "from nltk.corpus import stopwords\n",
    "from textblob import TextBlob\n",
    "from sklearn.feature_extraction.text import CountVectorizer\n",
    "from sklearn.feature_extraction.text import TfidfTransformer\n",
    "from sklearn.feature_extraction.text import TfidfVectorizer\n",
    "from sklearn.model_selection import train_test_split\n",
    "from sklearn.ensemble import RandomForestClassifier\n",
    "from sklearn.metrics import classification_report, confusion_matrix, accuracy_score"
   ]
  },
  {
   "cell_type": "code",
   "execution_count": 566,
   "metadata": {},
   "outputs": [],
   "source": [
    "recommendation = pd.read_csv(r\"C:\\Users\\simba\\Desktop\\feedbacksFormatted.csv\")\n",
    "X, y = recommendation.Data, recommendation.Target"
   ]
  },
  {
   "cell_type": "code",
   "execution_count": 567,
   "metadata": {},
   "outputs": [],
   "source": [
    "def sentimentClassification(text):\n",
    "    blob = TextBlob(text)\n",
    "    if blob.sentiment.polarity < 0:\n",
    "        a=\"Not satisfied\"\n",
    "    elif blob.sentiment.polarity >= 0 and blob.sentiment.polarity <0.6:\n",
    "        a=\"Satisfied\"\n",
    "    else:\n",
    "        a=\"Very Satisfied\"\n",
    "    return a,blob.sentiment.polarity"
   ]
  },
  {
   "cell_type": "code",
   "execution_count": 568,
   "metadata": {},
   "outputs": [],
   "source": [
    "def feedback_classification(feedback):\n",
    "    if feedback==\"g\":\n",
    "        a=\"General\"\n",
    "    elif feedback==\"bs\":\n",
    "        a=\"Behaviour torwards students\"\n",
    "    elif feedback==\"ts\":\n",
    "        a=\"Teaching skills\"\n",
    "    else:\n",
    "        a=\"Punctuality\"\n",
    "    return a"
   ]
  },
  {
   "cell_type": "code",
   "execution_count": 569,
   "metadata": {},
   "outputs": [],
   "source": [
    "def processed_documents(data):\n",
    "    documentss = []\n",
    "    from nltk.stem import WordNetLemmatizer\n",
    "    stemmer = WordNetLemmatizer()\n",
    "    for sen in range(0, len(data)):\n",
    "        # Remove all the special characters\n",
    "        document = re.sub(r'\\W', ' ', str(data[sen]))\n",
    "    \n",
    "        # remove all single characters\n",
    "        document = re.sub(r'\\s+[a-zA-Z]\\s+', ' ', document) \n",
    "    \n",
    "        # Remove single characters from the start\n",
    "        document = re.sub(r'\\^[a-zA-Z]\\s+', ' ', document) \n",
    "    \n",
    "        # Substituting multiple spaces with single space\n",
    "        document = re.sub(r'\\s+', ' ', document, flags=re.I)\n",
    "    \n",
    "        # Removing prefixed 'b'\n",
    "        document = re.sub(r'^b\\s+', '', document)\n",
    "    \n",
    "        # Converting to Lowercase\n",
    "        document = document.lower()\n",
    "    \n",
    "        # Lemmatization\n",
    "        document = document.split()\n",
    "\n",
    "        document = [stemmer.lemmatize(word) for word in document]\n",
    "        document = ' '.join(document)\n",
    "    \n",
    "        documentss.append(document)\n",
    "    return documentss\n",
    "    \n",
    "documents=processed_documents(X)"
   ]
  },
  {
   "cell_type": "code",
   "execution_count": 570,
   "metadata": {},
   "outputs": [],
   "source": [
    "def vectorization(data):\n",
    "    vectorizer = CountVectorizer(max_features=500)\n",
    "    X = vectorizer.fit_transform(data).toarray()\n",
    "    tfidfconverter = TfidfTransformer()\n",
    "    X = tfidfconverter.fit_transform(X).toarray()\n",
    "    tfidfconverter = TfidfVectorizer(max_features=500)\n",
    "    X = tfidfconverter.fit_transform(data).toarray()\n",
    "    return X\n",
    "X=vectorization(documents)"
   ]
  },
  {
   "cell_type": "code",
   "execution_count": 571,
   "metadata": {},
   "outputs": [],
   "source": [
    "X_train, X_test, y_train, y_test = train_test_split(X, y, test_size=0.20, random_state=0)"
   ]
  },
  {
   "cell_type": "code",
   "execution_count": 572,
   "metadata": {},
   "outputs": [
    {
     "data": {
      "text/plain": [
       "RandomForestClassifier(bootstrap=True, class_weight=None, criterion='gini',\n",
       "                       max_depth=None, max_features='auto', max_leaf_nodes=None,\n",
       "                       min_impurity_decrease=0.0, min_impurity_split=None,\n",
       "                       min_samples_leaf=1, min_samples_split=2,\n",
       "                       min_weight_fraction_leaf=0.0, n_estimators=100,\n",
       "                       n_jobs=None, oob_score=False, random_state=0, verbose=0,\n",
       "                       warm_start=False)"
      ]
     },
     "execution_count": 572,
     "metadata": {},
     "output_type": "execute_result"
    }
   ],
   "source": [
    "classifier = RandomForestClassifier(n_estimators=100, random_state=0)\n",
    "classifier.fit(X_train, y_train)"
   ]
  },
  {
   "cell_type": "code",
   "execution_count": 573,
   "metadata": {},
   "outputs": [],
   "source": [
    "y_pred = classifier.predict(X_test)"
   ]
  },
  {
   "cell_type": "code",
   "execution_count": 575,
   "metadata": {},
   "outputs": [
    {
     "name": "stdout",
     "output_type": "stream",
     "text": [
      "[[ 9  0  0  8]\n",
      " [ 1 15  0  2]\n",
      " [ 0  0  2  0]\n",
      " [ 1  1  0 28]]\n",
      "              precision    recall  f1-score   support\n",
      "\n",
      "          bs       0.82      0.53      0.64        17\n",
      "           g       0.94      0.83      0.88        18\n",
      "           p       1.00      1.00      1.00         2\n",
      "          ts       0.74      0.93      0.82        30\n",
      "\n",
      "    accuracy                           0.81        67\n",
      "   macro avg       0.87      0.82      0.84        67\n",
      "weighted avg       0.82      0.81      0.80        67\n",
      "\n",
      "Accuracy : 0.8059701492537313\n"
     ]
    }
   ],
   "source": [
    "print(confusion_matrix(y_test,y_pred))\n",
    "print(classification_report(y_test,y_pred))\n",
    "print(\"Accuracy : {}\".format(accuracy_score(y_test, y_pred)))"
   ]
  },
  {
   "cell_type": "markdown",
   "metadata": {},
   "source": [
    "# New Feedback\n"
   ]
  },
  {
   "cell_type": "code",
   "execution_count": 577,
   "metadata": {},
   "outputs": [
    {
     "name": "stdout",
     "output_type": "stream",
     "text": [
      "Enter new feedback :\tThe teacher comes early\n",
      "..................................................................\n",
      "Polarity Score : 0.1\n",
      "Comment  : Satisfied\n",
      "Feedback Classification :General\n"
     ]
    }
   ],
   "source": [
    "feedback=input(\"Enter new feedback :\\t\")\n",
    "e,y=sentimentClassification(feedback)\n",
    "feedback=pd.DataFrame([{\"Data\":feedback,\"Target\":\"dummy\"}])\n",
    "feedback = pd.concat([recommendation , feedback]).reset_index(drop=True)\n",
    "feedback_X, feedback_y = feedback.Data, feedback.Target\n",
    "feedback_documents=processed_documents(feedback_X)\n",
    "feedback_X=vectorization(feedback_documents)\n",
    "feedbackX_train, feedbackX_test, feedbacky_train= feedback_X[:feedback_X.shape[0]-1,:],feedback_X[0,:],feedback_y.iloc[:feedback_y.size-1]\n",
    "feedback_model = RandomForestClassifier(n_estimators=1000, random_state=0)\n",
    "feedback_model.fit(feedbackX_train, feedbacky_train)\n",
    "feedback_prediction = feedback_model.predict(feedbackX_test.reshape(1,-1))\n",
    "print(\"..................................................................\")\n",
    "print(\"Polarity Score : {}\".format(y))\n",
    "print(\"Comment  : {}\".format(e))\n",
    "print(\"Feedback Classification :{}\".format(feedback_classification(feedback_prediction)))"
   ]
  },
  {
   "cell_type": "code",
   "execution_count": null,
   "metadata": {},
   "outputs": [],
   "source": []
  }
 ],
 "metadata": {
  "kernelspec": {
   "display_name": "Python 3",
   "language": "python",
   "name": "python3"
  },
  "language_info": {
   "codemirror_mode": {
    "name": "ipython",
    "version": 3
   },
   "file_extension": ".py",
   "mimetype": "text/x-python",
   "name": "python",
   "nbconvert_exporter": "python",
   "pygments_lexer": "ipython3",
   "version": "3.7.4"
  }
 },
 "nbformat": 4,
 "nbformat_minor": 2
}
